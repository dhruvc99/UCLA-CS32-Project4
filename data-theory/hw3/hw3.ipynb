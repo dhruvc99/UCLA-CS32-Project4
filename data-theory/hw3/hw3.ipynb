{
 "metadata": {
  "language_info": {
   "codemirror_mode": {
    "name": "ipython",
    "version": 3
   },
   "file_extension": ".py",
   "mimetype": "text/x-python",
   "name": "python",
   "nbconvert_exporter": "python",
   "pygments_lexer": "ipython3",
   "version": "3.8.5-final"
  },
  "orig_nbformat": 2,
  "kernelspec": {
   "name": "python3",
   "display_name": "Python 3.8.5 64-bit ('base': conda)",
   "metadata": {
    "interpreter": {
     "hash": "53d805402eef2d46fa959b90cd8938e8274e604f897ec3ccfcecb3eafb0daf09"
    }
   }
  }
 },
 "nbformat": 4,
 "nbformat_minor": 2,
 "cells": [
  {
   "cell_type": "code",
   "execution_count": 42,
   "metadata": {},
   "outputs": [],
   "source": [
    "import numpy as np \n",
    "\n",
    "A = np.random.randn(100, 50)\n",
    "y = np.random.randn(50)\n",
    "# b = np.random.randn(100)\n",
    "b = A@y\n",
    "\n",
    "def grad_descent(alpha = 0.1, k = 1000):\n",
    "    x = np.random.randn(50)\n",
    "    for i in range(k):\n",
    "        grad = 2*A.T@((A@x)-b)\n",
    "        x = x - alpha*grad\n",
    "    return x"
   ]
  },
  {
   "cell_type": "code",
   "execution_count": 51,
   "metadata": {},
   "outputs": [
    {
     "output_type": "execute_result",
     "data": {
      "text/plain": [
       "2.0955322979517113e+61"
      ]
     },
     "metadata": {},
     "execution_count": 51
    }
   ],
   "source": [
    "x = grad_descent(0.004)\n",
    "np.linalg.norm(A@x-b)"
   ]
  },
  {
   "cell_type": "code",
   "execution_count": null,
   "metadata": {},
   "outputs": [],
   "source": []
  }
 ]
}