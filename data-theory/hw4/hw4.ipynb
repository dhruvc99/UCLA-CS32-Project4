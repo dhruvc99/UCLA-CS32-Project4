{
 "metadata": {
  "language_info": {
   "codemirror_mode": {
    "name": "ipython",
    "version": 3
   },
   "file_extension": ".py",
   "mimetype": "text/x-python",
   "name": "python",
   "nbconvert_exporter": "python",
   "pygments_lexer": "ipython3",
   "version": "3.8.5-final"
  },
  "orig_nbformat": 2,
  "kernelspec": {
   "name": "python3",
   "display_name": "Python 3.8.5 64-bit ('base': conda)",
   "metadata": {
    "interpreter": {
     "hash": "53d805402eef2d46fa959b90cd8938e8274e604f897ec3ccfcecb3eafb0daf09"
    }
   }
  }
 },
 "nbformat": 4,
 "nbformat_minor": 2,
 "cells": [
  {
   "cell_type": "code",
   "execution_count": 17,
   "metadata": {},
   "outputs": [],
   "source": [
    "import numpy as np"
   ]
  },
  {
   "cell_type": "code",
   "execution_count": 18,
   "metadata": {},
   "outputs": [
    {
     "output_type": "execute_result",
     "data": {
      "text/plain": [
       "[[0, 0, 0, 0, 0, 0, 0, 0],\n",
       " [0, 0, 1, 1, 1, 1, 1, 1],\n",
       " [0, 0, 1, 1, 2, 2, 2, 2],\n",
       " [0, 0, 1, 2, 2, 2, 2, 2],\n",
       " [0, 0, 1, 2, 2, 2, 3, 3],\n",
       " [0, 1, 1, 2, 2, 3, 3, 3],\n",
       " [0, 1, 2, 2, 3, 3, 3, 3],\n",
       " [0, 1, 2, 2, 3, 3, 4, 4]]"
      ]
     },
     "metadata": {},
     "execution_count": 18
    }
   ],
   "source": [
    "def lcs(x, y):\n",
    "    m = len(x)+1 \n",
    "    n = len(y)+1\n",
    "    table = [[None]*n for i in range(m)]\n",
    "\n",
    "    for i in range(m):\n",
    "        for j in range(n):\n",
    "            if i == 0 or j == 0:\n",
    "                table[i][j] = 0\n",
    "            elif x[i-1] == y[j-1]:\n",
    "                table[i][j] = table[i-1][j-1]+1\n",
    "            else:\n",
    "                table[i][j] = max(table[i-1][j], table[i][j-1])\n",
    "\n",
    "    display(table)\n",
    "    return table[m-1][n-1]\n",
    "\n",
    "lcs(\"GGATCGT\", \"CGAGCTT\")"
   ]
  },
  {
   "cell_type": "code",
   "execution_count": 11,
   "metadata": {},
   "outputs": [],
   "source": [
    "def latexify(Arr,decimal_places = 3, concise=False):\n",
    "    '''\n",
    "    Converts numpy arrays to Latex code.\n",
    "    Courtesy of Charles Stoksik, Winter 2020.\n",
    "    '''\n",
    "    Arr = np.round(Arr,decimal_places) \n",
    "\n",
    "    #concise determines whether rows will be separated by newlines\n",
    "    style = ' ' if concise else '\\n'   \n",
    "    \n",
    "    if Arr.ndim == 1: #needed to handle vectors\n",
    "        print('$$\\\\begin{bmatrix}')\n",
    "        print(' \\\\\\\\{}'.format(style).join(map(str,Arr)))\n",
    "        print('\\\\end{bmatrix}$$\\n')\n",
    "    else:\n",
    "        print('\\\\begin{center}')\n",
    "        print('\\\\begin{tabular}')\n",
    "        print(' \\\\\\\\{}'.format(style).join([' & '.join(map(str,row)) for row in Arr]))\n",
    "        print('\\\\end{tabular}')\n",
    "        print('\\\\end{center}')"
   ]
  },
  {
   "cell_type": "code",
   "execution_count": 19,
   "metadata": {},
   "outputs": [
    {
     "output_type": "stream",
     "name": "stdout",
     "text": [
      "\\begin{center}\n\\begin{tabular}\n0 & 0 & 0 & 0 & 0 & 0 & 0 & 0 \\\\\n0 & 0 & 1 & 1 & 1 & 1 & 1 & 1 \\\\\n0 & 0 & 1 & 1 & 2 & 2 & 2 & 2 \\\\\n0 & 0 & 1 & 2 & 2 & 2 & 2 & 2 \\\\\n0 & 0 & 1 & 2 & 2 & 2 & 3 & 3 \\\\\n0 & 1 & 1 & 2 & 2 & 3 & 3 & 3 \\\\\n0 & 1 & 2 & 2 & 3 & 3 & 3 & 3 \\\\\n0 & 1 & 2 & 2 & 3 & 3 & 4 & 4\n\\end{tabular}\n\\end{center}\n"
     ]
    }
   ],
   "source": [
    "latexify(lcs(\"GGATCGT\", \"CGAGCTT\"))"
   ]
  },
  {
   "cell_type": "code",
   "execution_count": 41,
   "metadata": {},
   "outputs": [
    {
     "output_type": "display_data",
     "data": {
      "text/plain": "[[0, 0, 0, 0, 0, 0, 0, 0, 0, 0, 0],\n [0, 4, 4, 4, 4, 4, 4, 4, 4, 4, 4],\n [0, 4, 4, 7, 7, 7, 7, 7, 7, 7, 7],\n [0, 4, 4, 7, 17, 21, 21, 24, 24, 24, 24],\n [0, 4, 4, 7, 17, 21, 24, 24, 27, 37, 41],\n [0, 4, 4, 7, 17, 21, 24, 30, 34, 37, 41]]"
     },
     "metadata": {}
    },
    {
     "output_type": "execute_result",
     "data": {
      "text/plain": [
       "41"
      ]
     },
     "metadata": {},
     "execution_count": 41
    }
   ],
   "source": [
    "def knapsack(vals, costs, B):\n",
    "    n = len(vals)+1\n",
    "    table = [[None for R in range(0, B+1, 5)] for k in range(n)]\n",
    "\n",
    "    for k in range(n):\n",
    "        for R in range(0, B+1, 5):\n",
    "            if k == 0 or R == 0:\n",
    "                table[k][R//5] = 0\n",
    "            elif costs[k-1] <= R:\n",
    "                table[k][R//5] = max(table[k-1][(R-costs[k-1])//5] + vals[k-1], table[k-1][R//5])\n",
    "            else:\n",
    "                table[k][R//5] = table[k-1][R//5]\n",
    "\n",
    "    display(table)\n",
    "    return table[n-1][B//5]\n",
    "\n",
    "t = [5, 10, 20, 25, 35]\n",
    "p = [4, 3, 17, 20, 30]\n",
    "knapsack(p, t, 50)"
   ]
  },
  {
   "cell_type": "code",
   "execution_count": 38,
   "metadata": {},
   "outputs": [
    {
     "output_type": "stream",
     "name": "stdout",
     "text": [
      "\\begin{center}\n\\begin{tabular}\n0 & 0 & 0 & 0 & 0 & 0 & 0 & 0 & 0 & 0 & 0 \\\\\n0 & 4 & 4 & 4 & 4 & 4 & 4 & 4 & 4 & 4 & 4 \\\\\n0 & 4 & 4 & 7 & 7 & 7 & 7 & 7 & 7 & 7 & 7 \\\\\n0 & 4 & 4 & 7 & 17 & 21 & 21 & 24 & 24 & 24 & 24 \\\\\n0 & 4 & 4 & 7 & 17 & 21 & 24 & 24 & 27 & 37 & 41 \\\\\n0 & 4 & 4 & 7 & 17 & 21 & 24 & 30 & 34 & 37 & 41\n\\end{tabular}\n\\end{center}\n"
     ]
    }
   ],
   "source": [
    "latexify(knapsack(p, t, 50))"
   ]
  },
  {
   "cell_type": "code",
   "execution_count": null,
   "metadata": {},
   "outputs": [],
   "source": [
    "def viterbi(y, A, E, init):\n",
    "    table = [[None]*len(y) for i in range(A.shape[0])]\n",
    "    \n",
    "    for i in range(table[0]):\n",
    "        \n",
    "\n",
    "    for k in range(n):\n",
    "        for R in range(0, B+1, 5):\n",
    "            if k == 0 or R == 0:\n",
    "                table[k][R//5] = 0\n",
    "            elif costs[k-1] <= R:\n",
    "                table[k][R//5] = max(table[k-1][(R-costs[k-1])//5] + vals[k-1], table[k-1][R//5])\n",
    "            else:\n",
    "                table[k][R//5] = table[k-1][R//5]\n",
    "\n",
    "    display(table)\n",
    "    return table[n-1][B//5]"
   ]
  },
  {
   "cell_type": "code",
   "execution_count": 1,
   "metadata": {},
   "outputs": [
    {
     "output_type": "execute_result",
     "data": {
      "text/plain": [
       "(array([0, 0, 0, 0, 0, 0, 0, 0, 0, 0, 0], dtype=uint8),\n",
       " array([[5.50000000e-01, 3.71250000e-01, 2.50593750e-01, 1.69150781e-01,\n",
       "         8.37296367e-02, 5.65175048e-02, 3.81493157e-02, 1.88839113e-02,\n",
       "         9.34753609e-03, 4.62703036e-03, 2.29038003e-03],\n",
       "        [0.00000000e+00, 6.18750000e-02, 4.17656250e-02, 2.81917969e-02,\n",
       "         1.39549395e-02, 9.41958413e-03, 6.35821929e-03, 3.14731855e-03,\n",
       "         1.55792268e-03, 7.71171727e-04, 3.81730005e-04]]),\n",
       " array([[0, 0, 0, 0, 0, 0, 0, 0, 0, 0, 0],\n",
       "        [0, 0, 0, 0, 0, 0, 0, 0, 0, 0, 0]], dtype=uint8))"
      ]
     },
     "metadata": {},
     "execution_count": 1
    }
   ],
   "source": [
    "import numpy as np\n",
    "\n",
    "def viterbi(y, A, E, init):\n",
    "    K = A.shape[0]\n",
    "    E = np.repeat(E[np.newaxis, :], K, axis=0)\n",
    "\n",
    "    T = len(y)\n",
    "    T1 = np.empty((K, T), 'd')\n",
    "    T2 = np.empty((K, T), 'B')\n",
    "\n",
    "    T1[:, 0] = init * E[:, y[0]]\n",
    "    T2[:, 0] = 0\n",
    "\n",
    "    for i in range(1, T):\n",
    "        T1[:, i] = np.max(T1[:, i - 1] * A.T * E[np.newaxis, :, y[i]].T, 1)\n",
    "        T2[:, i] = np.argmax(T1[:, i - 1] * A.T, 1)\n",
    "\n",
    "    x = np.empty(T, 'B')\n",
    "    x[-1] = np.argmax(T1[:, T - 1])\n",
    "    for i in reversed(range(1, T)):\n",
    "        x[i - 1] = T2[x[i], i]\n",
    "\n",
    "    return x, T1, T2\n",
    "\n",
    "y = np.array([1,0,0,0,1,0,0,1,1,1,1])\n",
    "# A = np.array([[0.9, 0.1],[0.15, 0.85]])\n",
    "A = np.array([[0.9, 0.15],[0.1, 0.85]])\n",
    "E = np.array([0.75, 0.55])\n",
    "init = np.array([1, 0])\n",
    "\n",
    "viterbi(y, A, E, init)"
   ]
  },
  {
   "cell_type": "code",
   "execution_count": 3,
   "metadata": {},
   "outputs": [
    {
     "output_type": "execute_result",
     "data": {
      "text/plain": [
       "(array([1, 1, 1, 1, 1, 1], dtype=uint8),\n",
       " array([[0.25      , 0.075     , 0.0225    , 0.00826875, 0.00434109,\n",
       "         0.00130233],\n",
       "        [0.15      , 0.07875   , 0.04134375, 0.02170547, 0.00488373,\n",
       "         0.00256396]]),\n",
       " array([[0, 0, 0, 1, 1, 0],\n",
       "        [0, 1, 1, 1, 1, 1]], dtype=uint8))"
      ]
     },
     "metadata": {},
     "execution_count": 3
    }
   ],
   "source": []
  },
  {
   "cell_type": "code",
   "execution_count": 5,
   "metadata": {},
   "outputs": [
    {
     "output_type": "execute_result",
     "data": {
      "text/plain": [
       "(array([0, 0, 0, 0, 0, 0, 0, 1, 1, 1, 1], dtype=uint8),\n",
       " array([[2.50000000e-01, 1.68750000e-01, 1.13906250e-01, 7.68867188e-02,\n",
       "         1.72995117e-02, 1.16771704e-02, 7.88209003e-03, 1.77347026e-03,\n",
       "         3.99030808e-04, 8.97819317e-05, 2.02009346e-05],\n",
       "        [0.00000000e+00, 2.06250000e-02, 1.39218750e-02, 9.39726563e-03,\n",
       "         5.18985352e-03, 2.42625652e-03, 1.13427492e-03, 5.32041077e-04,\n",
       "         2.03505712e-04, 7.78409348e-05, 2.97741576e-05]]),\n",
       " array([[0, 0, 0, 0, 0, 0, 0, 0, 0, 0, 0],\n",
       "        [0, 0, 0, 0, 0, 1, 1, 0, 1, 1, 1]], dtype=uint8))"
      ]
     },
     "metadata": {},
     "execution_count": 5
    }
   ],
   "source": [
    "\n",
    "def viterbi(y, A, E, pi):\n",
    "    K = A.shape[0]\n",
    "    T = len(y)\n",
    "    T1 = np.empty((K, T), 'd')\n",
    "    T2 = np.empty((K, T), 'B')\n",
    "\n",
    "    T1[:, 0] = pi * E[:, y[0]]\n",
    "    T2[:, 0] = 0\n",
    "\n",
    "    for i in range(1, T):\n",
    "        T1[:, i] = np.max(T1[:, i - 1] * A.T * E[np.newaxis, :, y[i]].T, 1)\n",
    "        T2[:, i] = np.argmax(T1[:, i - 1] * A.T, 1)\n",
    "\n",
    "    x = np.empty(T, 'B')\n",
    "    x[-1] = np.argmax(T1[:, T - 1])\n",
    "    for i in reversed(range(1, T)):\n",
    "        x[i - 1] = T2[x[i], i]\n",
    "\n",
    "    return x, T1, T2\n",
    "\n",
    "y = np.array([1,0,0,0,1,0,0,1,1,1,1])\n",
    "\n",
    "A = np.array([[0.9, 0.15],[0.1, 0.85]])\n",
    "E = np.array([[0.75,0.25], [0.55,0.45]])\n",
    "init = np.array([1, 0])\n",
    "\n",
    "viterbi(y, A, E, init)"
   ]
  },
  {
   "cell_type": "code",
   "execution_count": 53,
   "metadata": {},
   "outputs": [
    {
     "output_type": "execute_result",
     "data": {
      "text/plain": [
       "array([ 0.00000000e+000, -2.68678226e+154,  2.96439388e-323,\n",
       "        0.00000000e+000,  0.00000000e+000,  5.74084271e+169,\n",
       "        5.89090280e-091,  3.60188547e+175,  1.00511896e-047,\n",
       "        2.25078704e+184,  3.99910963e+252])"
      ]
     },
     "metadata": {},
     "execution_count": 53
    }
   ],
   "source": [
    "np.empty(len(y), 'B')"
   ]
  },
  {
   "cell_type": "code",
   "execution_count": 62,
   "metadata": {},
   "outputs": [
    {
     "output_type": "stream",
     "name": "stdout",
     "text": [
      "\\begin{center}\n\\begin{tabular}\n0.55 & 0.3713 & 0.2506 & 0.1692 & 0.0837 & 0.0565 & 0.0381 & 0.0189 & 0.0093 & 0.0046 & 0.0023 \\\\\n0.0 & 0.0412 & 0.0278 & 0.0188 & 0.0093 & 0.0063 & 0.0042 & 0.0021 & 0.001 & 0.0005 & 0.0003\n\\end{tabular}\n\\end{center}\n"
     ]
    }
   ],
   "source": [
    "ans = [[5.50000000e-01, 3.71250000e-01, 2.50593750e-01, 1.69150781e-01,\n",
    "         8.37296367e-02, 5.65175048e-02, 3.81493157e-02, 1.88839113e-02,\n",
    "         9.34753609e-03, 4.62703036e-03, 2.29038003e-03],\n",
    "        [0.00000000e+00, 4.12500000e-02, 2.78437500e-02, 1.87945313e-02,\n",
    "         9.30329297e-03, 6.27972275e-03, 4.23881286e-03, 2.09821237e-03,\n",
    "         1.03861512e-03, 5.14114485e-04, 2.54486670e-04]]\n",
    "\n",
    "latexify(ans, 4)"
   ]
  },
  {
   "cell_type": "code",
   "execution_count": 69,
   "metadata": {},
   "outputs": [
    {
     "output_type": "stream",
     "name": "stdout",
     "text": [
      "\\begin{center}\n\\begin{tabular}\n0.25 & 0.16875 & 0.113906 & 0.076887 & 0.0173 & 0.011677 & 0.007882 & 0.001773 & 0.000399 & 9e-05 & 2e-05 \\\\\n0.0 & 0.01375 & 0.009281 & 0.006265 & 0.00346 & 0.001618 & 0.000756 & 0.000355 & 0.000136 & 5.2e-05 & 2e-05\n\\end{tabular}\n\\end{center}\n"
     ]
    }
   ],
   "source": [
    "ans = [[2.50000000e-01, 1.68750000e-01, 1.13906250e-01, 7.68867188e-02,\n",
    "         1.72995117e-02, 1.16771704e-02, 7.88209003e-03, 1.77347026e-03,\n",
    "         3.99030808e-04, 8.97819317e-05, 2.02009346e-05],\n",
    "        [0.00000000e+00, 1.37500000e-02, 9.28125000e-03, 6.26484375e-03,\n",
    "         3.45990234e-03, 1.61750435e-03, 7.56183282e-04, 3.54694051e-04,\n",
    "         1.35670475e-04, 5.18939565e-05, 1.98494384e-05]]\n",
    "\n",
    "latexify(ans, 6)"
   ]
  },
  {
   "cell_type": "code",
   "execution_count": null,
   "metadata": {},
   "outputs": [],
   "source": []
  }
 ]
}