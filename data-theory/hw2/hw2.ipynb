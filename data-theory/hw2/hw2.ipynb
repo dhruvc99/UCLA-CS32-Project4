{
 "metadata": {
  "language_info": {
   "codemirror_mode": {
    "name": "ipython",
    "version": 3
   },
   "file_extension": ".py",
   "mimetype": "text/x-python",
   "name": "python",
   "nbconvert_exporter": "python",
   "pygments_lexer": "ipython3",
   "version": "3.8.5-final"
  },
  "orig_nbformat": 2,
  "kernelspec": {
   "name": "python3",
   "display_name": "Python 3",
   "language": "python"
  }
 },
 "nbformat": 4,
 "nbformat_minor": 2,
 "cells": [
  {
   "cell_type": "code",
   "execution_count": 19,
   "metadata": {},
   "outputs": [],
   "source": [
    "import numpy as np \n",
    "from scipy.optimize import nnls\n",
    "\n",
    "A = np.array([[0.238, 0.387, 1.065, 0.494],\n",
    "              [0.345, 0.603, 1.056, 0.512],\n",
    "              [0.302, 0.555, 0.590, 0.308],\n",
    "              [0.283, 0.473, 1.132, 0.531]])\n",
    "\n",
    "def nmf(A, num_topics=2, tol=0.3):\n",
    "    W, H = np.random.rand(A.shape[0], num_topics), np.random.rand(num_topics, A.shape[1])\n",
    "    while True:\n",
    "        for i in range(H.shape[0]):\n",
    "            H[:,i] = nnls(W, A[:,i])[0]\n",
    "        for i in range(W.shape[0]):\n",
    "            W[i,:] = nnls(H.T, A[i,:])[0]\n",
    "        error = np.linalg.norm(A-(W@H), ord='fro')\n",
    "        if error <= tol:\n",
    "            break\n",
    "    return W, H\n",
    "\n",
    "W, H = nmf(A)"
   ]
  },
  {
   "cell_type": "code",
   "execution_count": 20,
   "metadata": {},
   "outputs": [],
   "source": [
    "def latexify(Arr,decimal_places = 3, concise=False):\n",
    "    '''\n",
    "    Converts numpy arrays to Latex code.\n",
    "    Courtesy of Charles Stoksik, Winter 2020.\n",
    "    '''\n",
    "    Arr = np.round(Arr,decimal_places) \n",
    "\n",
    "    #concise determines whether rows will be separated by newlines\n",
    "    style = ' ' if concise else '\\n'   \n",
    "    \n",
    "    if Arr.ndim == 1: #needed to handle vectors\n",
    "        print('$$\\\\begin{bmatrix}')\n",
    "        print(' \\\\\\\\{}'.format(style).join(map(str,Arr)))\n",
    "        print('\\\\end{bmatrix}$$\\n')\n",
    "    else:\n",
    "        print('$$\\\\begin{bmatrix}')\n",
    "        print(' \\\\\\\\{}'.format(style).join([' & '.join(map(str,row)) for row in Arr]))\n",
    "        print('\\\\end{bmatrix}$$\\n')"
   ]
  },
  {
   "cell_type": "code",
   "execution_count": 21,
   "metadata": {},
   "outputs": [
    {
     "output_type": "stream",
     "name": "stdout",
     "text": [
      "$$\\begin{bmatrix}\n0.381 & 0.867 \\\\\n0.583 & 0.717 \\\\\n0.53 & 0.258 \\\\\n0.463 & 0.882\n\\end{bmatrix}$$\n\n"
     ]
    }
   ],
   "source": [
    "latexify(W)"
   ]
  },
  {
   "cell_type": "code",
   "execution_count": 22,
   "metadata": {},
   "outputs": [
    {
     "output_type": "stream",
     "name": "stdout",
     "text": [
      "$$\\begin{bmatrix}\n0.503 & 0.941 & 0.549 & 0.671 \\\\\n0.034 & 0.0 & 0.955 & 0.36\n\\end{bmatrix}$$\n\n"
     ]
    }
   ],
   "source": [
    "latexify(H)"
   ]
  },
  {
   "cell_type": "code",
   "execution_count": 23,
   "metadata": {},
   "outputs": [
    {
     "output_type": "stream",
     "name": "stdout",
     "text": [
      "$$\\begin{bmatrix}\n0.221 & 0.359 & 1.038 & 0.568 \\\\\n0.318 & 0.549 & 1.005 & 0.65 \\\\\n0.276 & 0.499 & 0.538 & 0.449 \\\\\n0.263 & 0.435 & 1.096 & 0.628\n\\end{bmatrix}$$\n\n"
     ]
    }
   ],
   "source": [
    "latexify(W@H)"
   ]
  },
  {
   "cell_type": "code",
   "execution_count": 24,
   "metadata": {},
   "outputs": [],
   "source": [
    "x = [-0.82,\n",
    "-1.33 ,\n",
    "-3.63,\n",
    "-1.62,\n",
    "-2.95, \n",
    "0.95,\n",
    "0.53,\n",
    "1.79 ,\n",
    "0.95, \n",
    "2.28]"
   ]
  },
  {
   "cell_type": "code",
   "execution_count": 27,
   "metadata": {},
   "outputs": [
    {
     "output_type": "stream",
     "name": "stdout",
     "text": [
      "3.19\n3.7\n6.0\n3.99\n5.32\n1.4200000000000002\n1.84\n0.5800000000000001\n1.4200000000000002\n0.0900000000000003\n"
     ]
    }
   ],
   "source": [
    "for i in x:\n",
    "    print(abs(i-2.37))"
   ]
  },
  {
   "cell_type": "code",
   "execution_count": 31,
   "metadata": {},
   "outputs": [
    {
     "output_type": "execute_result",
     "data": {
      "text/plain": [
       "1.3"
      ]
     },
     "metadata": {},
     "execution_count": 31
    }
   ],
   "source": [
    "np.mean(x[5:])"
   ]
  },
  {
   "cell_type": "code",
   "execution_count": 30,
   "metadata": {},
   "outputs": [
    {
     "output_type": "execute_result",
     "data": {
      "text/plain": [
       "[0.95, 0.53, 1.79, 0.95, 2.28]"
      ]
     },
     "metadata": {},
     "execution_count": 30
    }
   ],
   "source": [
    "x[5:]"
   ]
  },
  {
   "cell_type": "code",
   "execution_count": null,
   "metadata": {},
   "outputs": [],
   "source": []
  }
 ]
}