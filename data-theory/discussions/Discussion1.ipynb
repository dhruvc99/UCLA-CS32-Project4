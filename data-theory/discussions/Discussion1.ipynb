{
 "cells": [
  {
   "cell_type": "code",
   "execution_count": 3,
   "metadata": {
    "collapsed": false
   },
   "outputs": [],
   "source": [
    "# Imports.\n",
    "import numpy as np"
   ]
  },
  {
   "cell_type": "markdown",
   "metadata": {},
   "source": [
    "## Arrays and multiplication"
   ]
  },
  {
   "cell_type": "code",
   "execution_count": 6,
   "metadata": {
    "collapsed": false
   },
   "outputs": [
    {
     "name": "stdout",
     "output_type": "stream",
     "text": [
      "(4,)\n",
      "Squared inner product:\n",
      "30\n",
      "Entry-wise multiplication:\n",
      "[ 1  4  9 16]\n"
     ]
    }
   ],
   "source": [
    "# Vectors.\n",
    "a = np.array([1,2,3,4])\n",
    "print(a.shape)\n",
    "\n",
    "# ||a||_2^2\n",
    "print(\"Squared inner product:\")\n",
    "print(a @ a)\n",
    "\n",
    "print(\"Entry-wise multiplication:\")\n",
    "print(a * a)"
   ]
  },
  {
   "cell_type": "code",
   "execution_count": 14,
   "metadata": {
    "collapsed": false
   },
   "outputs": [
    {
     "name": "stdout",
     "output_type": "stream",
     "text": [
      "[[1]\n",
      " [2]\n",
      " [3]\n",
      " [4]]\n",
      "(4, 1)\n",
      "Inner product:\n",
      "30\n",
      "Outer product:\n",
      "[[ 1  2  3  4]\n",
      " [ 2  4  6  8]\n",
      " [ 3  6  9 12]\n",
      " [ 4  8 12 16]]\n",
      "Entry-wise multiplication:\n",
      "[[ 1]\n",
      " [ 4]\n",
      " [ 9]\n",
      " [16]]\n"
     ]
    }
   ],
   "source": [
    "# Convert to 2d array.\n",
    "a = a.reshape(4,1)\n",
    "print(a)\n",
    "print(a.shape)\n",
    "\n",
    "print(\"Inner product:\")\n",
    "print((a.T @ a)[0][0])\n",
    "\n",
    "print(\"Outer product:\")\n",
    "print(a @ a.T)\n",
    "\n",
    "print(\"Entry-wise multiplication:\")\n",
    "print(a * a)"
   ]
  },
  {
   "cell_type": "code",
   "execution_count": 16,
   "metadata": {
    "collapsed": false
   },
   "outputs": [
    {
     "ename": "ValueError",
     "evalue": "shapes (4,1) and (4,1) not aligned: 1 (dim 1) != 4 (dim 0)",
     "output_type": "error",
     "traceback": [
      "\u001b[0;31m---------------------------------------------------------------------------\u001b[0m",
      "\u001b[0;31mValueError\u001b[0m                                Traceback (most recent call last)",
      "\u001b[0;32m<ipython-input-16-159d074d7fd9>\u001b[0m in \u001b[0;36m<module>\u001b[0;34m\u001b[0m\n\u001b[0;32m----> 1\u001b[0;31m \u001b[0ma\u001b[0m \u001b[0;34m@\u001b[0m \u001b[0ma\u001b[0m\u001b[0;34m\u001b[0m\u001b[0;34m\u001b[0m\u001b[0m\n\u001b[0m",
      "\u001b[0;31mValueError\u001b[0m: shapes (4,1) and (4,1) not aligned: 1 (dim 1) != 4 (dim 0)"
     ]
    }
   ],
   "source": [
    "# Note:\n",
    "a @ a"
   ]
  },
  {
   "cell_type": "markdown",
   "metadata": {},
   "source": [
    "## Linear regression"
   ]
  },
  {
   "cell_type": "code",
   "execution_count": 18,
   "metadata": {
    "collapsed": true
   },
   "outputs": [],
   "source": [
    "# Generate data.\n",
    "A = 100 * np.random.randn(20,5)\n",
    "x = np.random.rand(5,1)\n",
    "noise = np.random.randn(20,1)\n",
    "\n",
    "# Observed data.\n",
    "b = A @ x + noise"
   ]
  },
  {
   "cell_type": "code",
   "execution_count": 16,
   "metadata": {
    "collapsed": false
   },
   "outputs": [],
   "source": [
    "# Get info about using NumPy's least-squares function.\n",
    "# help(np.linalg.lstsq)"
   ]
  },
  {
   "cell_type": "code",
   "execution_count": 20,
   "metadata": {
    "collapsed": false
   },
   "outputs": [
    {
     "data": {
      "text/plain": [
       "(array([[0.04684413],\n",
       "        [0.02478589],\n",
       "        [0.27761611],\n",
       "        [0.46316196],\n",
       "        [0.39160781]]),\n",
       " array([20.49312311]),\n",
       " 5,\n",
       " array([545.206276  , 512.80092849, 446.32143078, 387.23866822,\n",
       "        237.49152412]))"
      ]
     },
     "execution_count": 20,
     "metadata": {},
     "output_type": "execute_result"
    }
   ],
   "source": [
    "np.linalg.lstsq(A,b,rcond=None)"
   ]
  },
  {
   "cell_type": "code",
   "execution_count": 23,
   "metadata": {
    "collapsed": false
   },
   "outputs": [],
   "source": [
    "x_hat = np.linalg.lstsq(A,b,rcond=None)[0] # Only interested in the first output."
   ]
  },
  {
   "cell_type": "markdown",
   "metadata": {},
   "source": [
    "Norm-squared error\n",
    "$$||x-\\hat x||_2^2$$ "
   ]
  },
  {
   "cell_type": "code",
   "execution_count": 24,
   "metadata": {
    "collapsed": false
   },
   "outputs": [
    {
     "name": "stdout",
     "output_type": "stream",
     "text": [
      "[[4.00555484e-05]]\n",
      "[4.00555484e-05]\n",
      "[4.00555484e-05]\n"
     ]
    }
   ],
   "source": [
    "error = x_hat - x\n",
    "\n",
    "# Multiple ways to compute the same thing.\n",
    "print(np.dot(error.T,error))\n",
    "print(sum(error * error))\n",
    "print(sum(error **2))"
   ]
  },
  {
   "cell_type": "markdown",
   "metadata": {},
   "source": [
    "Residual norm-squared error\n",
    "$$||A \\hat x - b||_2^2$$"
   ]
  },
  {
   "cell_type": "code",
   "execution_count": 25,
   "metadata": {
    "collapsed": false
   },
   "outputs": [
    {
     "data": {
      "text/plain": [
       "array([20.49312311])"
      ]
     },
     "execution_count": 25,
     "metadata": {},
     "output_type": "execute_result"
    }
   ],
   "source": [
    "# Residual error.\n",
    "residual_error = A @ x_hat - b\n",
    "sum(residual_error ** 2)"
   ]
  },
  {
   "cell_type": "code",
   "execution_count": 27,
   "metadata": {
    "collapsed": false
   },
   "outputs": [
    {
     "name": "stdout",
     "output_type": "stream",
     "text": [
      "[20.49312311]\n"
     ]
    }
   ],
   "source": [
    "residual_error_comparison = np.linalg.lstsq(A,b,rcond=None)[1]\n",
    "print(residual_error_comparison)"
   ]
  },
  {
   "cell_type": "code",
   "execution_count": null,
   "metadata": {
    "collapsed": true
   },
   "outputs": [],
   "source": []
  }
 ],
 "metadata": {
  "kernelspec": {
   "display_name": "Python 3",
   "language": "python",
   "name": "python3"
  },
  "language_info": {
   "codemirror_mode": {
    "name": "ipython",
    "version": 3
   },
   "file_extension": ".py",
   "mimetype": "text/x-python",
   "name": "python",
   "nbconvert_exporter": "python",
   "pygments_lexer": "ipython3",
   "version": "3.6.8"
  }
 },
 "nbformat": 4,
 "nbformat_minor": 2
}
