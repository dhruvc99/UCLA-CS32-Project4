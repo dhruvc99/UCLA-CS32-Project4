{
 "cells": [
  {
   "cell_type": "code",
   "execution_count": 3,
   "id": "golden-cylinder",
   "metadata": {},
   "outputs": [],
   "source": [
    "import numpy as np\n",
    "\n",
    "def rk4( f, x0, t ):\n",
    "    n = len( t )\n",
    "    x = np.array( [ x0 ] * n )\n",
    "    for i in range( n - 1 ):\n",
    "        h = t[i+1] - t[i]\n",
    "        k1 = h * f( x[i], t[i] )\n",
    "        k2 = h * f( x[i] + 0.5 * k1, t[i] + 0.5 * h )\n",
    "        k3 = h * f( x[i] + 0.5 * k2, t[i] + 0.5 * h )\n",
    "        k4 = h * f( x[i] + k3, t[i+1] )\n",
    "        x[i+1] = x[i] + ( k1 + 2.0 * ( k2 + k3 ) + k4 ) / 6.0\n",
    "\n",
    "    return x"
   ]
  },
  {
   "cell_type": "code",
   "execution_count": 5,
   "id": "former-baghdad",
   "metadata": {},
   "outputs": [],
   "source": [
    "def shoot( f, a, b, z1, z2, t, tol ):\n",
    "    max_iter = 25   \n",
    "    n = len( t )    \n",
    "\n",
    "    y = rk4( f, [a,z1], t )\n",
    "    w1 = y[n-1,0]\n",
    "\n",
    "    for i in xrange( max_iter ):\n",
    "        y = rk4( f, [a,z2], t )\n",
    "        w2 = y[n-1,0]\n",
    "    \n",
    "        if abs( b - w2 ) < tol:\n",
    "            break\n",
    "\n",
    "        z1, z2 = ( z2, z2 + ( z2 - z1 ) / ( w2 - w1 ) * ( b - w2 ) )\n",
    "        w1 = w2\n",
    "\n",
    "    return y[:,0]"
   ]
  },
  {
   "cell_type": "code",
   "execution_count": null,
   "id": "eastern-cover",
   "metadata": {},
   "outputs": [],
   "source": []
  }
 ],
 "metadata": {
  "kernelspec": {
   "display_name": "Python 3",
   "language": "python",
   "name": "python3"
  },
  "language_info": {
   "codemirror_mode": {
    "name": "ipython",
    "version": 3
   },
   "file_extension": ".py",
   "mimetype": "text/x-python",
   "name": "python",
   "nbconvert_exporter": "python",
   "pygments_lexer": "ipython3",
   "version": "3.8.5"
  }
 },
 "nbformat": 4,
 "nbformat_minor": 5
}
