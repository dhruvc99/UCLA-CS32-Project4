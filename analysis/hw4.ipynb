{
 "cells": [
  {
   "cell_type": "code",
   "execution_count": 22,
   "id": "interracial-frontier",
   "metadata": {},
   "outputs": [],
   "source": [
    "import numpy as np"
   ]
  },
  {
   "cell_type": "code",
   "execution_count": 23,
   "id": "manual-airline",
   "metadata": {},
   "outputs": [],
   "source": [
    "def predictor_corrector(f, a, b, alpha, h):\n",
    "    t = [a]\n",
    "    w = [alpha]\n",
    "    N = int((b-a)/h)\n",
    "    \n",
    "    for i in range(N):\n",
    "        t_new = t[i]+h\n",
    "        predicted_w = w[i] + h*f(t[i]+h/2, w[i] + h*f(t[i], w[i])/2)\n",
    "        corrected_w = w[i] + h*f(t_new, predicted_w)/2 + h*f(t[i],w[i])/2\n",
    "        t.append(t_new)\n",
    "        w.append(corrected_w)\n",
    "        \n",
    "    return t, w"
   ]
  },
  {
   "cell_type": "code",
   "execution_count": 24,
   "id": "honest-saudi",
   "metadata": {},
   "outputs": [],
   "source": [
    "def fcn(t, w):\n",
    "    x = np.array((w[1], 6*np.exp(-t) + 4*w[0]))\n",
    "    return x"
   ]
  },
  {
   "cell_type": "code",
   "execution_count": 25,
   "id": "cardiac-growth",
   "metadata": {},
   "outputs": [
    {
     "data": {
      "text/plain": [
       "([0,\n",
       "  0.1,\n",
       "  0.2,\n",
       "  0.30000000000000004,\n",
       "  0.4,\n",
       "  0.5,\n",
       "  0.6,\n",
       "  0.7,\n",
       "  0.7999999999999999,\n",
       "  0.8999999999999999,\n",
       "  0.9999999999999999],\n",
       " [array([0, 0]),\n",
       "  array([0.02853688, 0.57745123]),\n",
       "  array([0.11325143, 1.12302863]),\n",
       "  array([0.25230638, 1.66401985]),\n",
       "  array([0.44655915, 2.22701842]),\n",
       "  array([0.69954804, 2.83904582]),\n",
       "  array([1.01759112, 3.52868601]),\n",
       "  array([1.41000161, 4.3272785 ]),\n",
       "  array([1.88942776, 5.27021851]),\n",
       "  array([2.47233084, 6.39841726]),\n",
       "  array([3.17961983, 7.75998141])])"
      ]
     },
     "execution_count": 25,
     "metadata": {},
     "output_type": "execute_result"
    }
   ],
   "source": [
    "predictor_corrector(fcn, 0, 1, np.array((0,0)), 0.1)"
   ]
  },
  {
   "cell_type": "code",
   "execution_count": null,
   "id": "preliminary-lounge",
   "metadata": {},
   "outputs": [],
   "source": []
  }
 ],
 "metadata": {
  "kernelspec": {
   "display_name": "Python 3",
   "language": "python",
   "name": "python3"
  },
  "language_info": {
   "codemirror_mode": {
    "name": "ipython",
    "version": 3
   },
   "file_extension": ".py",
   "mimetype": "text/x-python",
   "name": "python",
   "nbconvert_exporter": "python",
   "pygments_lexer": "ipython3",
   "version": "3.8.5"
  }
 },
 "nbformat": 4,
 "nbformat_minor": 5
}
