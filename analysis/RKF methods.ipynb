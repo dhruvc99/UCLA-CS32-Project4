{
 "cells": [
  {
   "cell_type": "code",
   "execution_count": 17,
   "id": "subjective-emerald",
   "metadata": {},
   "outputs": [],
   "source": [
    "import matplotlib.pyplot as plt\n",
    "import numpy as np\n",
    "\n",
    "%matplotlib inline"
   ]
  },
  {
   "cell_type": "code",
   "execution_count": 4,
   "id": "operational-advantage",
   "metadata": {},
   "outputs": [],
   "source": [
    "def RKF12(f, a, b, alpha, TOL, hmin, hmax):\n",
    "    t = [a]\n",
    "    w = [alpha]\n",
    "    h = hmax\n",
    "    \n",
    "    i = 0\n",
    "    while True:\n",
    "        k1 = f(t[i], w[i])\n",
    "        k2 = (f(t[i], w[i]) + f(t[i]+h, w[i]+h*f(t[i], w[i])))/2\n",
    "        \n",
    "        R = abs(k2-k1)\n",
    "        if R <= TOL:\n",
    "            t.append(t[i]+h)\n",
    "            w.append(w[i]+h*k1)\n",
    "            i = i+1\n",
    "        \n",
    "        delta = TOL/R\n",
    "        if delta < 0.1:\n",
    "            h = 0.1*h\n",
    "        elif delta > 4:\n",
    "            h = 4*h\n",
    "        else:\n",
    "            h = delta*h\n",
    "            \n",
    "        if h > hmax:\n",
    "            h = hmax\n",
    "            \n",
    "        if t[i] >= b:\n",
    "            break\n",
    "        elif (t[i]+h) > b:\n",
    "            h = b-t[i]\n",
    "        \n",
    "        if h < hmin:\n",
    "            print(\"h below hmin\")\n",
    "            break\n",
    "        \n",
    "    return t, w"
   ]
  },
  {
   "cell_type": "code",
   "execution_count": 47,
   "id": "czech-compromise",
   "metadata": {},
   "outputs": [],
   "source": [
    "def RKF45(f, a, b, alpha, TOL, hmin, hmax):\n",
    "    t = [a]\n",
    "    w = [alpha]\n",
    "    h = hmax\n",
    "    \n",
    "    i = 0\n",
    "    while True:\n",
    "        k1 = h*f(t[i], w[i])\n",
    "        k2 = h*f(t[i]+h/4, w[i]+k1/4)\n",
    "        k3 = h*f(t[i]+3*h/8, w[i]+3*k1/32+9*k2/32)\n",
    "        k4 = h*f(t[i]+12*h/13, w[i]+1932*k1/2197-7200*k2/2197+7296*k3/2197)\n",
    "        k5 = h*f(t[i]+h, w[i]+439*k1/216-8*k2+3680*k3/513-845*k4/4104)\n",
    "        k6 = h*f(t[i]+0.5*h, w[i]-8*k1/27+2*k2-3544*k3/2565+1859*k4/4104-11*k5/40)\n",
    "        \n",
    "        R = abs(k1/260-128*k3/4275-2197*k4/75240+k5/50+2*k6/55)/h\n",
    "        if R <= TOL:\n",
    "            t.append(t[i]+h)\n",
    "            w.append(w[i]+25*k1/216+1408*k3/2565+2197*k4/4104-k5/5)\n",
    "            i = i+1\n",
    "        \n",
    "        delta = 0.84*(TOL/R)**(1/4)\n",
    "        if delta < 0.1:\n",
    "            h = 0.1*h\n",
    "        elif delta > 4:\n",
    "            h = 4*h\n",
    "        else:\n",
    "            h = delta*h\n",
    "            \n",
    "        if h > hmax:\n",
    "            h = hmax\n",
    "            \n",
    "        if t[i] >= b:\n",
    "            break\n",
    "        elif (t[i]+h) > b:\n",
    "            h = b-t[i]\n",
    "        \n",
    "        if h < hmin:\n",
    "            print(\"h below hmin\")\n",
    "            break\n",
    "        \n",
    "    return t, w"
   ]
  },
  {
   "cell_type": "code",
   "execution_count": 5,
   "id": "acceptable-participation",
   "metadata": {},
   "outputs": [],
   "source": [
    "def fcn(t, w):\n",
    "    return (1+w)"
   ]
  },
  {
   "cell_type": "code",
   "execution_count": 76,
   "id": "swiss-abortion",
   "metadata": {},
   "outputs": [
    {
     "data": {
      "text/plain": [
       "([3, 3, 5, 14, 44, 136], [3, 3, 3, 3, 3, 3])"
      ]
     },
     "execution_count": 76,
     "metadata": {},
     "output_type": "execute_result"
    }
   ],
   "source": [
    "rkf12steps, rkf45steps = [], []\n",
    "\n",
    "for i in np.arange(0, 3, 0.5):\n",
    "    tol = 10**(-i)\n",
    "    t12, w12 = RKF12(fcn, 0, 1, -0.5, tol, 0.001, 0.5)\n",
    "    rkf12steps.append(len(t12))\n",
    "    t45, w45 = RKF45(fcn, 0, 1, -0.5, tol, 0.001, 0.5)\n",
    "    rkf45steps.append(len(t45))\n",
    "\n",
    "rkf12steps, rkf45steps"
   ]
  },
  {
   "cell_type": "code",
   "execution_count": 98,
   "id": "annual-classic",
   "metadata": {},
   "outputs": [],
   "source": [
    "t12, w12 = RKF12(fcn, 0, 1, -0.5, 0.01, 0.001, 0.25)\n",
    "t45, w45 = RKF45(fcn, 0, 1, -0.5, 0.01, 0.001, 0.25)"
   ]
  },
  {
   "cell_type": "code",
   "execution_count": 99,
   "id": "driven-arbor",
   "metadata": {
    "scrolled": true
   },
   "outputs": [
    {
     "data": {
      "text/plain": [
       "([0,\n",
       "  0.03999999999999972,\n",
       "  0.07846153846153783,\n",
       "  0.11549857549857455,\n",
       "  0.15121286121285996,\n",
       "  0.18569561983354932,\n",
       "  0.2190289531668824,\n",
       "  0.2512870176830112,\n",
       "  0.282537017683011,\n",
       "  0.3128400479860411,\n",
       "  0.34225181269192323,\n",
       "  0.37082324126335164,\n",
       "  0.39860101904112927,\n",
       "  0.42562804606815613,\n",
       "  0.45194383554184014,\n",
       "  0.47758486118286564,\n",
       "  0.5025848611828655,\n",
       "  0.5269751050853044,\n",
       "  0.550784628894828,\n",
       "  0.5740404428483162,\n",
       "  0.5967677155755888,\n",
       "  0.618989937797811,\n",
       "  0.6407290682325935,\n",
       "  0.6620056639772742,\n",
       "  0.6828389973106075,\n",
       "  0.7032471605759135,\n",
       "  0.7232471605759132,\n",
       "  0.7428550037131678,\n",
       "  0.7620857729439368,\n",
       "  0.7809536974722383,\n",
       "  0.7994722159907566,\n",
       "  0.8176540341725744,\n",
       "  0.835511177029717,\n",
       "  0.8530550366788395,\n",
       "  0.8702964159891842,\n",
       "  0.8872455685315568,\n",
       "  0.9039122351982233,\n",
       "  0.9203056778211739,\n",
       "  0.9364347100792382,\n",
       "  0.9523077259522539,\n",
       "  0.9679327259522537,\n",
       "  0.9833173413368689,\n",
       "  0.9984688564883839,\n",
       "  1.0],\n",
       " [-0.5,\n",
       "  -0.48000000000000015,\n",
       "  -0.46000000000000035,\n",
       "  -0.44000000000000056,\n",
       "  -0.42000000000000076,\n",
       "  -0.40000000000000097,\n",
       "  -0.38000000000000117,\n",
       "  -0.3600000000000014,\n",
       "  -0.3400000000000016,\n",
       "  -0.3200000000000018,\n",
       "  -0.300000000000002,\n",
       "  -0.2800000000000022,\n",
       "  -0.2600000000000024,\n",
       "  -0.2400000000000026,\n",
       "  -0.2200000000000028,\n",
       "  -0.200000000000003,\n",
       "  -0.1800000000000032,\n",
       "  -0.16000000000000342,\n",
       "  -0.14000000000000362,\n",
       "  -0.12000000000000383,\n",
       "  -0.10000000000000403,\n",
       "  -0.08000000000000423,\n",
       "  -0.060000000000004446,\n",
       "  -0.04000000000000464,\n",
       "  -0.02000000000000485,\n",
       "  -5.0584536559483695e-15,\n",
       "  0.01999999999999456,\n",
       "  0.03999999999999413,\n",
       "  0.05999999999999371,\n",
       "  0.07999999999999328,\n",
       "  0.09999999999999286,\n",
       "  0.11999999999999242,\n",
       "  0.139999999999992,\n",
       "  0.15999999999999157,\n",
       "  0.17999999999999114,\n",
       "  0.1999999999999907,\n",
       "  0.2199999999999903,\n",
       "  0.23999999999998986,\n",
       "  0.2599999999999894,\n",
       "  0.279999999999989,\n",
       "  0.29999999999998855,\n",
       "  0.3199999999999881,\n",
       "  0.3399999999999877,\n",
       "  0.34205173230555325])"
      ]
     },
     "execution_count": 99,
     "metadata": {},
     "output_type": "execute_result"
    }
   ],
   "source": [
    "t12, w12"
   ]
  },
  {
   "cell_type": "code",
   "execution_count": 100,
   "id": "protected-leeds",
   "metadata": {},
   "outputs": [
    {
     "data": {
      "text/plain": [
       "([0, 0.25, 0.5, 0.75, 1.0],\n",
       " [-0.5,\n",
       "  -0.35798684144631404,\n",
       "  -0.17563820848783945,\n",
       "  0.05850223511939461,\n",
       "  0.35914472661027763])"
      ]
     },
     "execution_count": 100,
     "metadata": {},
     "output_type": "execute_result"
    }
   ],
   "source": [
    "t45, w45"
   ]
  },
  {
   "cell_type": "code",
   "execution_count": 101,
   "id": "consecutive-automation",
   "metadata": {},
   "outputs": [],
   "source": [
    "y = [0.5*(np.exp(t_i) - 2) for t_i in t12] # actual solution"
   ]
  },
  {
   "cell_type": "code",
   "execution_count": 102,
   "id": "hidden-boulder",
   "metadata": {},
   "outputs": [
    {
     "data": {
      "text/plain": [
       "[<matplotlib.lines.Line2D at 0x7fa4d1f8d4f0>]"
      ]
     },
     "execution_count": 102,
     "metadata": {},
     "output_type": "execute_result"
    },
    {
     "data": {
      "image/png": "[encoded data removed]",
      "text/plain": [
       "<Figure size 432x288 with 1 Axes>"
      ]
     },
     "metadata": {
      "needs_background": "light"
     },
     "output_type": "display_data"
    }
   ],
   "source": [
    "fig, ax = plt.subplots()\n",
    "ax.plot(t12, y, 'g')\n",
    "ax.plot(t12, w12, 'r')\n",
    "ax.plot(t45, w45, 'b')"
   ]
  },
  {
   "cell_type": "code",
   "execution_count": null,
   "id": "freelance-toner",
   "metadata": {},
   "outputs": [],
   "source": []
  }
 ],
 "metadata": {
  "kernelspec": {
   "display_name": "Python 3",
   "language": "python",
   "name": "python3"
  },
  "language_info": {
   "codemirror_mode": {
    "name": "ipython",
    "version": 3
   },
   "file_extension": ".py",
   "mimetype": "text/x-python",
   "name": "python",
   "nbconvert_exporter": "python",
   "pygments_lexer": "ipython3",
   "version": "3.8.5"
  }
 },
 "nbformat": 4,
 "nbformat_minor": 5
}
