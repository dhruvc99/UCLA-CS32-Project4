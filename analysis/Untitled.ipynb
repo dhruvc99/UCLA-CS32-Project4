{
 "cells": [
  {
   "cell_type": "code",
   "execution_count": 2,
   "id": "composite-monroe",
   "metadata": {},
   "outputs": [],
   "source": [
    "import numpy as np\n",
    "\n",
    "j = np.array(((2, 1, 0), (1, -2, 0), (1, 1, 1)))"
   ]
  },
  {
   "cell_type": "code",
   "execution_count": 4,
   "id": "saving-lobby",
   "metadata": {},
   "outputs": [
    {
     "data": {
      "text/plain": [
       "array([[ 0.4,  0.2,  0. ],\n",
       "       [ 0.2, -0.4, -0. ],\n",
       "       [-0.6,  0.2,  1. ]])"
      ]
     },
     "execution_count": 4,
     "metadata": {},
     "output_type": "execute_result"
    }
   ],
   "source": [
    "np.linalg.inv(j)"
   ]
  },
  {
   "cell_type": "code",
   "execution_count": 5,
   "id": "worldwide-proof",
   "metadata": {},
   "outputs": [],
   "source": [
    "a = np.array((1, 1, 1))"
   ]
  },
  {
   "cell_type": "code",
   "execution_count": 6,
   "id": "certified-value",
   "metadata": {},
   "outputs": [],
   "source": [
    "f = np.array((1+1-37, 1-1-5, 1+1+1-3))"
   ]
  },
  {
   "cell_type": "code",
   "execution_count": 8,
   "id": "chronic-treasurer",
   "metadata": {},
   "outputs": [
    {
     "data": {
      "text/plain": [
       "array([[ 15.,   2.,   1.],\n",
       "       [  8.,  -1.,   1.],\n",
       "       [-20.,   2.,   1.]])"
      ]
     },
     "execution_count": 8,
     "metadata": {},
     "output_type": "execute_result"
    }
   ],
   "source": [
    "a-np.linalg.inv(j)*f"
   ]
  },
  {
   "cell_type": "code",
   "execution_count": 12,
   "id": "medium-communication",
   "metadata": {},
   "outputs": [
    {
     "data": {
      "text/plain": [
       "array([ 16.,   6., -19.])"
      ]
     },
     "execution_count": 12,
     "metadata": {},
     "output_type": "execute_result"
    }
   ],
   "source": [
    "a - np.matmul(np.linalg.inv(j), f)"
   ]
  },
  {
   "cell_type": "code",
   "execution_count": null,
   "id": "given-characterization",
   "metadata": {},
   "outputs": [],
   "source": []
  }
 ],
 "metadata": {
  "kernelspec": {
   "display_name": "Python 3",
   "language": "python",
   "name": "python3"
  },
  "language_info": {
   "codemirror_mode": {
    "name": "ipython",
    "version": 3
   },
   "file_extension": ".py",
   "mimetype": "text/x-python",
   "name": "python",
   "nbconvert_exporter": "python",
   "pygments_lexer": "ipython3",
   "version": "3.8.5"
  }
 },
 "nbformat": 4,
 "nbformat_minor": 5
}
